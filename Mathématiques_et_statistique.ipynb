{
  "nbformat": 4,
  "nbformat_minor": 0,
  "metadata": {
    "colab": {
      "provenance": [],
      "authorship_tag": "ABX9TyMTl5E6MEfIUhlWDLce9OTe",
      "include_colab_link": true
    },
    "kernelspec": {
      "name": "python3",
      "display_name": "Python 3"
    },
    "language_info": {
      "name": "python"
    }
  },
  "cells": [
    {
      "cell_type": "markdown",
      "metadata": {
        "id": "view-in-github",
        "colab_type": "text"
      },
      "source": [
        "<a href=\"https://colab.research.google.com/github/Yasmine-edl/Math-matiques-statistiques/blob/main/Math%C3%A9matiques_et_statistique.ipynb\" target=\"_parent\"><img src=\"https://colab.research.google.com/assets/colab-badge.svg\" alt=\"Open In Colab\"/></a>"
      ]
    },
    {
      "cell_type": "code",
      "execution_count": null,
      "metadata": {
        "id": "Dk5CX1n8uQxq"
      },
      "outputs": [],
      "source": [
        "def calculer_cout_global(cout_variable, cout_unitaire, nombre_produits):\n",
        "\n",
        "    cout_global = cout_variable + (cout_unitaire * nombre_produits)\n",
        "    return cout_global\n"
      ]
    },
    {
      "cell_type": "code",
      "source": [
        "matrice = np.array([[10, 5], [-4, 1]])\n",
        "vecteur = np.array([1, 1])\n",
        "\n",
        "resultat = np.dot(matrice, vecteur)\n",
        "print(resultat)\n",
        "\n",
        "\n",
        "if np.linalg.det(matrice) != 0:\n",
        "    inverse = np.linalg.inv(matrice)\n",
        "    print(\"Matrice inverse :\", inverse)\n",
        "else:\n",
        "    print(\"La matrice n'est pas inversible.\")\n",
        "\n",
        "def arrondir(resultat):\n",
        "    resultat_arrondi = np.floor(resultat)\n",
        "    return resultat_arrondi\n",
        "\n",
        "print(arrondir(resultat))\n",
        "\n"
      ],
      "metadata": {
        "colab": {
          "base_uri": "https://localhost:8080/"
        },
        "id": "3TK70tSwA_hf",
        "outputId": "424b627b-21a1-47d8-c94b-3e4269d0c4c1"
      },
      "execution_count": null,
      "outputs": [
        {
          "output_type": "stream",
          "name": "stdout",
          "text": [
            "[15 -3]\n",
            "Matrice inverse : [[ 0.03333333 -0.16666667]\n",
            " [ 0.13333333  0.33333333]]\n",
            "[15. -3.]\n"
          ]
        }
      ]
    },
    {
      "cell_type": "code",
      "source": [
        "def Alea_sytem(equa, var):\n",
        "    A = np.random.randint(-10, 10, (equa, var))\n",
        "    B = np.random.randint(-10, 10, equa)\n",
        "    return A, B\n",
        "\n",
        "A, B = Alea_sytem(2, 2)\n",
        "print(\"Matrice A :\", A)\n",
        "print(\"Vecteur B :\", B)\n",
        "\n",
        "\n",
        "\n",
        "def resou_system(A, B):\n",
        "    try:\n",
        "        solution = np.linalg.solve(A, B)\n",
        "        return f\"Solution unique : {solution}\"\n",
        "    except np.linalg.LinAlgError:\n",
        "        return \"Pas de solution ou infinité de solutions.\"\n",
        "\n",
        "A = np.array([[2, 1], [1, 1]])\n",
        "B = np.array([5, 3])\n",
        "\n",
        "print(resou_system(A, B))"
      ],
      "metadata": {
        "colab": {
          "base_uri": "https://localhost:8080/"
        },
        "id": "88gTYeAuBLay",
        "outputId": "59e5a157-588e-4b9c-bd45-d766ebb110dc"
      },
      "execution_count": null,
      "outputs": [
        {
          "output_type": "stream",
          "name": "stdout",
          "text": [
            "Matrice A : [[4 7]\n",
            " [1 5]]\n",
            "Vecteur B : [  2 -10]\n",
            "Solution unique : [2. 1.]\n"
          ]
        }
      ]
    },
    {
      "cell_type": "code",
      "source": [
        "A = np.array([\n",
        "    [1, 2, -1, 1, 1],\n",
        "    [2, -1, 3, -1, 4],\n",
        "    [-1, 3, 2, 1, -1],\n",
        "    [3, -1, 1, 2, 3],\n",
        "    [2, 1, -1, -3, 1]\n",
        "])\n",
        "\n",
        "Y = np.array([8, 15, 7, 20, 5])\n",
        "deter = np.linalg.det(A)\n",
        "\n",
        "if deter != 0:\n",
        "    print(\"Le système possède une solution unique.\")\n",
        "else:\n",
        "    print(\"Le système n'a pas de solution ou possède une infinitée de solution.\")"
      ],
      "metadata": {
        "id": "P053Okf8BS9t",
        "outputId": "63d4ec75-883f-4dc2-dea3-a1ca477e6dd4",
        "colab": {
          "base_uri": "https://localhost:8080/"
        }
      },
      "execution_count": null,
      "outputs": [
        {
          "output_type": "stream",
          "name": "stdout",
          "text": [
            "Le système possède une solution unique.\n"
          ]
        }
      ]
    }
  ]
}